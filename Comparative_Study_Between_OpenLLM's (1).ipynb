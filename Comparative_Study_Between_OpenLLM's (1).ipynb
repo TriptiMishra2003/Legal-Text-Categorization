{
  "nbformat": 4,
  "nbformat_minor": 0,
  "metadata": {
    "colab": {
      "provenance": []
    },
    "kernelspec": {
      "name": "python3",
      "display_name": "Python 3"
    },
    "language_info": {
      "name": "python"
    }
  },
  "cells": [
    {
      "cell_type": "code",
      "source": [
        "!unzip \"/content/drive/MyDrive/legal_text_classification.csv.zip\""
      ],
      "metadata": {
        "colab": {
          "base_uri": "https://localhost:8080/"
        },
        "id": "WuxmEgMxGfAd",
        "outputId": "f74f22dd-c020-465d-c875-9e3b16540147"
      },
      "execution_count": 1,
      "outputs": [
        {
          "output_type": "stream",
          "name": "stdout",
          "text": [
            "Archive:  /content/drive/MyDrive/legal_text_classification.csv.zip\n",
            "  inflating: legal_text_classification.csv  \n"
          ]
        }
      ]
    },
    {
      "cell_type": "code",
      "source": [
        "!pip install transformers"
      ],
      "metadata": {
        "colab": {
          "base_uri": "https://localhost:8080/"
        },
        "id": "MvW0CzfWG5CG",
        "outputId": "44a186fd-9263-4882-e475-b541b475a445"
      },
      "execution_count": 4,
      "outputs": [
        {
          "output_type": "stream",
          "name": "stdout",
          "text": [
            "Collecting transformers\n",
            "  Downloading transformers-4.35.0-py3-none-any.whl (7.9 MB)\n",
            "\u001b[2K     \u001b[90m━━━━━━━━━━━━━━━━━━━━━━━━━━━━━━━━━━━━━━━━\u001b[0m \u001b[32m7.9/7.9 MB\u001b[0m \u001b[31m44.8 MB/s\u001b[0m eta \u001b[36m0:00:00\u001b[0m\n",
            "\u001b[?25hRequirement already satisfied: filelock in /usr/local/lib/python3.10/dist-packages (from transformers) (3.12.4)\n",
            "Collecting huggingface-hub<1.0,>=0.16.4 (from transformers)\n",
            "  Downloading huggingface_hub-0.18.0-py3-none-any.whl (301 kB)\n",
            "\u001b[2K     \u001b[90m━━━━━━━━━━━━━━━━━━━━━━━━━━━━━━━━━━━━━━━━\u001b[0m \u001b[32m302.0/302.0 kB\u001b[0m \u001b[31m37.7 MB/s\u001b[0m eta \u001b[36m0:00:00\u001b[0m\n",
            "\u001b[?25hRequirement already satisfied: numpy>=1.17 in /usr/local/lib/python3.10/dist-packages (from transformers) (1.23.5)\n",
            "Requirement already satisfied: packaging>=20.0 in /usr/local/lib/python3.10/dist-packages (from transformers) (23.2)\n",
            "Requirement already satisfied: pyyaml>=5.1 in /usr/local/lib/python3.10/dist-packages (from transformers) (6.0.1)\n",
            "Requirement already satisfied: regex!=2019.12.17 in /usr/local/lib/python3.10/dist-packages (from transformers) (2023.6.3)\n",
            "Requirement already satisfied: requests in /usr/local/lib/python3.10/dist-packages (from transformers) (2.31.0)\n",
            "Collecting tokenizers<0.15,>=0.14 (from transformers)\n",
            "  Downloading tokenizers-0.14.1-cp310-cp310-manylinux_2_17_x86_64.manylinux2014_x86_64.whl (3.8 MB)\n",
            "\u001b[2K     \u001b[90m━━━━━━━━━━━━━━━━━━━━━━━━━━━━━━━━━━━━━━━━\u001b[0m \u001b[32m3.8/3.8 MB\u001b[0m \u001b[31m96.3 MB/s\u001b[0m eta \u001b[36m0:00:00\u001b[0m\n",
            "\u001b[?25hCollecting safetensors>=0.3.1 (from transformers)\n",
            "  Downloading safetensors-0.4.0-cp310-cp310-manylinux_2_17_x86_64.manylinux2014_x86_64.whl (1.3 MB)\n",
            "\u001b[2K     \u001b[90m━━━━━━━━━━━━━━━━━━━━━━━━━━━━━━━━━━━━━━━━\u001b[0m \u001b[32m1.3/1.3 MB\u001b[0m \u001b[31m81.2 MB/s\u001b[0m eta \u001b[36m0:00:00\u001b[0m\n",
            "\u001b[?25hRequirement already satisfied: tqdm>=4.27 in /usr/local/lib/python3.10/dist-packages (from transformers) (4.66.1)\n",
            "Requirement already satisfied: fsspec>=2023.5.0 in /usr/local/lib/python3.10/dist-packages (from huggingface-hub<1.0,>=0.16.4->transformers) (2023.6.0)\n",
            "Requirement already satisfied: typing-extensions>=3.7.4.3 in /usr/local/lib/python3.10/dist-packages (from huggingface-hub<1.0,>=0.16.4->transformers) (4.5.0)\n",
            "Collecting huggingface-hub<1.0,>=0.16.4 (from transformers)\n",
            "  Downloading huggingface_hub-0.17.3-py3-none-any.whl (295 kB)\n",
            "\u001b[2K     \u001b[90m━━━━━━━━━━━━━━━━━━━━━━━━━━━━━━━━━━━━━━━━\u001b[0m \u001b[32m295.0/295.0 kB\u001b[0m \u001b[31m35.7 MB/s\u001b[0m eta \u001b[36m0:00:00\u001b[0m\n",
            "\u001b[?25hRequirement already satisfied: charset-normalizer<4,>=2 in /usr/local/lib/python3.10/dist-packages (from requests->transformers) (3.3.1)\n",
            "Requirement already satisfied: idna<4,>=2.5 in /usr/local/lib/python3.10/dist-packages (from requests->transformers) (3.4)\n",
            "Requirement already satisfied: urllib3<3,>=1.21.1 in /usr/local/lib/python3.10/dist-packages (from requests->transformers) (2.0.7)\n",
            "Requirement already satisfied: certifi>=2017.4.17 in /usr/local/lib/python3.10/dist-packages (from requests->transformers) (2023.7.22)\n",
            "Installing collected packages: safetensors, huggingface-hub, tokenizers, transformers\n",
            "Successfully installed huggingface-hub-0.17.3 safetensors-0.4.0 tokenizers-0.14.1 transformers-4.35.0\n"
          ]
        }
      ]
    },
    {
      "cell_type": "code",
      "source": [
        "!pip install datasets\n",
        "!pip install rouge_score"
      ],
      "metadata": {
        "colab": {
          "base_uri": "https://localhost:8080/"
        },
        "id": "oSC2XK70KzzP",
        "outputId": "c87a1ed8-6d86-4968-83d6-078a3fb4c6fd"
      },
      "execution_count": 24,
      "outputs": [
        {
          "output_type": "stream",
          "name": "stdout",
          "text": [
            "Collecting datasets\n",
            "  Downloading datasets-2.14.6-py3-none-any.whl (493 kB)\n",
            "\u001b[2K     \u001b[90m━━━━━━━━━━━━━━━━━━━━━━━━━━━━━━━━━━━━━━━━\u001b[0m \u001b[32m493.7/493.7 kB\u001b[0m \u001b[31m7.0 MB/s\u001b[0m eta \u001b[36m0:00:00\u001b[0m\n",
            "\u001b[?25hRequirement already satisfied: numpy>=1.17 in /usr/local/lib/python3.10/dist-packages (from datasets) (1.23.5)\n",
            "Requirement already satisfied: pyarrow>=8.0.0 in /usr/local/lib/python3.10/dist-packages (from datasets) (9.0.0)\n",
            "Collecting dill<0.3.8,>=0.3.0 (from datasets)\n",
            "  Downloading dill-0.3.7-py3-none-any.whl (115 kB)\n",
            "\u001b[2K     \u001b[90m━━━━━━━━━━━━━━━━━━━━━━━━━━━━━━━━━━━━━━━━\u001b[0m \u001b[32m115.3/115.3 kB\u001b[0m \u001b[31m18.2 MB/s\u001b[0m eta \u001b[36m0:00:00\u001b[0m\n",
            "\u001b[?25hRequirement already satisfied: pandas in /usr/local/lib/python3.10/dist-packages (from datasets) (1.5.3)\n",
            "Requirement already satisfied: requests>=2.19.0 in /usr/local/lib/python3.10/dist-packages (from datasets) (2.31.0)\n",
            "Requirement already satisfied: tqdm>=4.62.1 in /usr/local/lib/python3.10/dist-packages (from datasets) (4.66.1)\n",
            "Requirement already satisfied: xxhash in /usr/local/lib/python3.10/dist-packages (from datasets) (3.4.1)\n",
            "Collecting multiprocess (from datasets)\n",
            "  Downloading multiprocess-0.70.15-py310-none-any.whl (134 kB)\n",
            "\u001b[2K     \u001b[90m━━━━━━━━━━━━━━━━━━━━━━━━━━━━━━━━━━━━━━━━\u001b[0m \u001b[32m134.8/134.8 kB\u001b[0m \u001b[31m20.7 MB/s\u001b[0m eta \u001b[36m0:00:00\u001b[0m\n",
            "\u001b[?25hRequirement already satisfied: fsspec[http]<=2023.10.0,>=2023.1.0 in /usr/local/lib/python3.10/dist-packages (from datasets) (2023.6.0)\n",
            "Requirement already satisfied: aiohttp in /usr/local/lib/python3.10/dist-packages (from datasets) (3.8.6)\n",
            "Requirement already satisfied: huggingface-hub<1.0.0,>=0.14.0 in /usr/local/lib/python3.10/dist-packages (from datasets) (0.17.3)\n",
            "Requirement already satisfied: packaging in /usr/local/lib/python3.10/dist-packages (from datasets) (23.2)\n",
            "Requirement already satisfied: pyyaml>=5.1 in /usr/local/lib/python3.10/dist-packages (from datasets) (6.0.1)\n",
            "Requirement already satisfied: attrs>=17.3.0 in /usr/local/lib/python3.10/dist-packages (from aiohttp->datasets) (23.1.0)\n",
            "Requirement already satisfied: charset-normalizer<4.0,>=2.0 in /usr/local/lib/python3.10/dist-packages (from aiohttp->datasets) (3.3.1)\n",
            "Requirement already satisfied: multidict<7.0,>=4.5 in /usr/local/lib/python3.10/dist-packages (from aiohttp->datasets) (6.0.4)\n",
            "Requirement already satisfied: async-timeout<5.0,>=4.0.0a3 in /usr/local/lib/python3.10/dist-packages (from aiohttp->datasets) (4.0.3)\n",
            "Requirement already satisfied: yarl<2.0,>=1.0 in /usr/local/lib/python3.10/dist-packages (from aiohttp->datasets) (1.9.2)\n",
            "Requirement already satisfied: frozenlist>=1.1.1 in /usr/local/lib/python3.10/dist-packages (from aiohttp->datasets) (1.4.0)\n",
            "Requirement already satisfied: aiosignal>=1.1.2 in /usr/local/lib/python3.10/dist-packages (from aiohttp->datasets) (1.3.1)\n",
            "Requirement already satisfied: filelock in /usr/local/lib/python3.10/dist-packages (from huggingface-hub<1.0.0,>=0.14.0->datasets) (3.12.4)\n",
            "Requirement already satisfied: typing-extensions>=3.7.4.3 in /usr/local/lib/python3.10/dist-packages (from huggingface-hub<1.0.0,>=0.14.0->datasets) (4.5.0)\n",
            "Requirement already satisfied: idna<4,>=2.5 in /usr/local/lib/python3.10/dist-packages (from requests>=2.19.0->datasets) (3.4)\n",
            "Requirement already satisfied: urllib3<3,>=1.21.1 in /usr/local/lib/python3.10/dist-packages (from requests>=2.19.0->datasets) (2.0.7)\n",
            "Requirement already satisfied: certifi>=2017.4.17 in /usr/local/lib/python3.10/dist-packages (from requests>=2.19.0->datasets) (2023.7.22)\n",
            "Requirement already satisfied: python-dateutil>=2.8.1 in /usr/local/lib/python3.10/dist-packages (from pandas->datasets) (2.8.2)\n",
            "Requirement already satisfied: pytz>=2020.1 in /usr/local/lib/python3.10/dist-packages (from pandas->datasets) (2023.3.post1)\n",
            "Requirement already satisfied: six>=1.5 in /usr/local/lib/python3.10/dist-packages (from python-dateutil>=2.8.1->pandas->datasets) (1.16.0)\n",
            "Installing collected packages: dill, multiprocess, datasets\n",
            "Successfully installed datasets-2.14.6 dill-0.3.7 multiprocess-0.70.15\n",
            "Collecting rouge_score\n",
            "  Downloading rouge_score-0.1.2.tar.gz (17 kB)\n",
            "  Preparing metadata (setup.py) ... \u001b[?25l\u001b[?25hdone\n",
            "Requirement already satisfied: absl-py in /usr/local/lib/python3.10/dist-packages (from rouge_score) (1.4.0)\n",
            "Requirement already satisfied: nltk in /usr/local/lib/python3.10/dist-packages (from rouge_score) (3.8.1)\n",
            "Requirement already satisfied: numpy in /usr/local/lib/python3.10/dist-packages (from rouge_score) (1.23.5)\n",
            "Requirement already satisfied: six>=1.14.0 in /usr/local/lib/python3.10/dist-packages (from rouge_score) (1.16.0)\n",
            "Requirement already satisfied: click in /usr/local/lib/python3.10/dist-packages (from nltk->rouge_score) (8.1.7)\n",
            "Requirement already satisfied: joblib in /usr/local/lib/python3.10/dist-packages (from nltk->rouge_score) (1.3.2)\n",
            "Requirement already satisfied: regex>=2021.8.3 in /usr/local/lib/python3.10/dist-packages (from nltk->rouge_score) (2023.6.3)\n",
            "Requirement already satisfied: tqdm in /usr/local/lib/python3.10/dist-packages (from nltk->rouge_score) (4.66.1)\n",
            "Building wheels for collected packages: rouge_score\n",
            "  Building wheel for rouge_score (setup.py) ... \u001b[?25l\u001b[?25hdone\n",
            "  Created wheel for rouge_score: filename=rouge_score-0.1.2-py3-none-any.whl size=24932 sha256=ad2fe4cd165969ca03dc375583324abd8dde11f0f36dcfb40bfe6b300ed983a0\n",
            "  Stored in directory: /root/.cache/pip/wheels/5f/dd/89/461065a73be61a532ff8599a28e9beef17985c9e9c31e541b4\n",
            "Successfully built rouge_score\n",
            "Installing collected packages: rouge_score\n",
            "Successfully installed rouge_score-0.1.2\n"
          ]
        }
      ]
    },
    {
      "cell_type": "code",
      "execution_count": 2,
      "metadata": {
        "colab": {
          "base_uri": "https://localhost:8080/"
        },
        "id": "0V9TjpYS-BIQ",
        "outputId": "fe9f2638-50f8-427a-c4cc-cefad7e40b07"
      },
      "outputs": [
        {
          "output_type": "stream",
          "name": "stdout",
          "text": [
            "Train set size: 17489\n",
            "Test set size: 3748\n",
            "Validation set size: 3748\n"
          ]
        }
      ],
      "source": [
        "import pandas as pd\n",
        "from sklearn.model_selection import train_test_split\n",
        "\n",
        "# Load the original dataset\n",
        "original_data = pd.read_csv('/content/legal_text_classification.csv')  # Replace 'your_dataset.csv' with your CSV file path\n",
        "\n",
        "# Define the proportions for the train, test, and validation sets\n",
        "train_ratio = 0.7  # 70% for training\n",
        "test_ratio = 0.15  # 15% for testing\n",
        "val_ratio = 0.15   # 15% for validation\n",
        "\n",
        "# Split the dataset into training, testing, and validation sets\n",
        "train_data, temp_data = train_test_split(original_data, test_size=(1 - train_ratio))\n",
        "test_data, val_data = train_test_split(temp_data, test_size=val_ratio / (test_ratio + val_ratio))\n",
        "\n",
        "# Save the split datasets to new CSV files\n",
        "train_data.to_csv('train_dataset.csv', index=False)\n",
        "test_data.to_csv('test_dataset.csv', index=False)\n",
        "val_data.to_csv('validation_dataset.csv', index=False)\n",
        "\n",
        "# Confirm the splits and save new CSV files\n",
        "print(f\"Train set size: {len(train_data)}\")\n",
        "print(f\"Test set size: {len(test_data)}\")\n",
        "print(f\"Validation set size: {len(val_data)}\")\n"
      ]
    },
    {
      "cell_type": "code",
      "source": [
        "import pandas as pd\n",
        "import numpy as np\n",
        "import matplotlib.pyplot as plt\n",
        "import seaborn as sns\n",
        "import torch\n",
        "from transformers import BartTokenizer, BartForConditionalGeneration, TrainingArguments, Trainer"
      ],
      "metadata": {
        "id": "cxtml3AVGw3x"
      },
      "execution_count": 83,
      "outputs": []
    },
    {
      "cell_type": "code",
      "source": [
        "# Load the dataset\n",
        "train_path = \"/content/train_dataset.csv\"\n",
        "validation_path = \"/content/validation_dataset.csv\"\n",
        "test_path = \"/content/test_dataset.csv\""
      ],
      "metadata": {
        "id": "W5UW9CTvG2U0"
      },
      "execution_count": 52,
      "outputs": []
    },
    {
      "cell_type": "code",
      "source": [
        "train_df = pd.read_csv(train_path)\n",
        "validation_df = pd.read_csv(validation_path)\n",
        "test_df = pd.read_csv(test_path)"
      ],
      "metadata": {
        "id": "lsH_U4N_HdqY"
      },
      "execution_count": 53,
      "outputs": []
    },
    {
      "cell_type": "code",
      "source": [
        "# Display the first few rows of the dataset\n",
        "print(\"Train Dataset - Sample Rows:\")\n",
        "print(train_df.head())"
      ],
      "metadata": {
        "colab": {
          "base_uri": "https://localhost:8080/"
        },
        "id": "IgwoansjHeJR",
        "outputId": "a04c436b-8989-4380-c742-0c1a01b4a58c"
      },
      "execution_count": 54,
      "outputs": [
        {
          "output_type": "stream",
          "name": "stdout",
          "text": [
            "Train Dataset - Sample Rows:\n",
            "     case_id case_outcome                                         case_title  \\\n",
            "0  Case11607   considered  Trade Practices Commission v David Jones (Aust...   \n",
            "1    Case536      applied  John Pfeiffer Pty Limited v Rogerson [2000] HC...   \n",
            "2   Case3769  referred to  Australian Competition &amp; Consumer Commissi...   \n",
            "3   Case1253  referred to                    Mercado v Holmes [2000] FCA 620   \n",
            "4   Case8278     followed  NADR v Minister for Immigration and Multicultu...   \n",
            "\n",
            "                                           case_text  \n",
            "0  The authorities on s 45 of the TPA explain the...  \n",
            "1  governing law with respect to torts committed ...  \n",
            "2  the present circumstances, the unconscionable ...  \n",
            "3  The majority in Yung (Burchett and Hill JJ) di...  \n",
            "4  The appellant's notice of appeal raises four g...  \n"
          ]
        }
      ]
    },
    {
      "cell_type": "code",
      "source": [
        "# Summary statistics\n",
        "print(\"Train Dataset - Summary Statistics:\")\n",
        "print(train_df.describe())"
      ],
      "metadata": {
        "colab": {
          "base_uri": "https://localhost:8080/"
        },
        "id": "WfZkb-m4HguF",
        "outputId": "33b7c100-e031-487e-94ed-d559f7838253"
      },
      "execution_count": 55,
      "outputs": [
        {
          "output_type": "stream",
          "name": "stdout",
          "text": [
            "Train Dataset - Summary Statistics:\n",
            "          case_id case_outcome  \\\n",
            "count       17489        17489   \n",
            "unique      17489           10   \n",
            "top     Case11607        cited   \n",
            "freq            1         8583   \n",
            "\n",
            "                                               case_title  \\\n",
            "count                                               17489   \n",
            "unique                                              13762   \n",
            "top     Minister for Immigration and Ethnic Affairs v ...   \n",
            "freq                                                   44   \n",
            "\n",
            "                                                case_text  \n",
            "count                                               17355  \n",
            "unique                                              13448  \n",
            "top     submitted that this Court should hold that the...  \n",
            "freq                                                   28  \n"
          ]
        }
      ]
    },
    {
      "cell_type": "code",
      "source": [
        "plt.figure(figsize=(10, 6))  # Set the figure size\n",
        "sns.countplot(data=train_df, x='case_outcome', order=category_counts.index)\n",
        "\n",
        "# Customize the plot\n",
        "plt.title(\"Train Dataset - Category Counts\")\n",
        "plt.xlabel(\"Case Outcome\")\n",
        "plt.ylabel(\"Count\")\n",
        "plt.xticks(rotation=90)  # Rotate x-axis labels for better visibility\n",
        "\n",
        "# Show the plot\n",
        "plt.show()"
      ],
      "metadata": {
        "colab": {
          "base_uri": "https://localhost:8080/",
          "height": 643
        },
        "id": "TNuYqHJHJJ2p",
        "outputId": "1ea67c07-e520-4cae-b0e7-8a412e96e72b"
      },
      "execution_count": 59,
      "outputs": [
        {
          "output_type": "display_data",
          "data": {
            "text/plain": [
              "<Figure size 1000x600 with 1 Axes>"
            ],
            "image/png": "[encoded data removed]"
          },
          "metadata": {}
        }
      ]
    },
    {
      "cell_type": "code",
      "source": [
        "category_counts = train_df['case_outcome'].value_counts()\n",
        "print(\"Train Dataset - Category Counts:\")\n",
        "print(category_counts)"
      ],
      "metadata": {
        "colab": {
          "base_uri": "https://localhost:8080/"
        },
        "id": "vBfbMk4cJbd2",
        "outputId": "c28b8f88-92ef-4869-c51d-c9fe6f89d37c"
      },
      "execution_count": 58,
      "outputs": [
        {
          "output_type": "stream",
          "name": "stdout",
          "text": [
            "Train Dataset - Category Counts:\n",
            "cited            8583\n",
            "referred to      3066\n",
            "applied          1723\n",
            "followed         1567\n",
            "considered       1195\n",
            "discussed         693\n",
            "distinguished     438\n",
            "affirmed           78\n",
            "approved           74\n",
            "related            72\n",
            "Name: case_outcome, dtype: int64\n"
          ]
        }
      ]
    },
    {
      "cell_type": "code",
      "source": [
        "# Distribution of article length\n",
        "train_df['case_title_len'] = train_df['case_title'].apply(lambda x: len(x.split()))\n",
        "plt.figure(figsize=(10, 6))\n",
        "sns.histplot(data=train_df, x='case_title_len', bins=30)\n",
        "plt.title(\"Distribution of Case Length\")\n",
        "plt.xlabel(\"Case Title Length\")\n",
        "plt.show()"
      ],
      "metadata": {
        "colab": {
          "base_uri": "https://localhost:8080/",
          "height": 564
        },
        "id": "7S_LJTAjHlF_",
        "outputId": "959b1a09-8ee0-4363-a748-5b05791f7f8b"
      },
      "execution_count": 60,
      "outputs": [
        {
          "output_type": "display_data",
          "data": {
            "text/plain": [
              "<Figure size 1000x600 with 1 Axes>"
            ],
            "image/png": "[encoded data removed]"
          },
          "metadata": {}
        }
      ]
    },
    {
      "cell_type": "code",
      "source": [
        "# Balancing Check\n",
        "category_counts = train_df['case_title'].value_counts()\n",
        "print(\"Train Dataset - Category Counts:\")\n",
        "print(category_counts)"
      ],
      "metadata": {
        "colab": {
          "base_uri": "https://localhost:8080/"
        },
        "id": "fphFTza3IULy",
        "outputId": "48a300b4-2245-432a-ccbd-4be455f1685a"
      },
      "execution_count": 61,
      "outputs": [
        {
          "output_type": "stream",
          "name": "stdout",
          "text": [
            "Train Dataset - Category Counts:\n",
            "Minister for Immigration and Ethnic Affairs v Wu Shan Liang [1996] HCA 6 ; (1996) 185 CLR 259                                44\n",
            "Minister for Aboriginal Affairs v Peko-Wallsend Ltd [1986] HCA 40 ; (1986) 162 CLR 24                                        28\n",
            "General Steel Industries Inc v Commissioner for Railways (NSW) [1964] HCA 69 ; (1964) 112 CLR 125                            28\n",
            "Minister for Immigration and Multicultural Affairs v Yusuf [2001] HCA 30 ; (2001) 206 CLR 323                                27\n",
            "SAAP v Minister for Immigration and Multicultural and Indigenous Affairs [2005] HCA 24 ; (2005) 215 ALR 162                  26\n",
            "                                                                                                                             ..\n",
            "Re Soci&eacute;t&eacute; Schneider Electric (2002) 4 ITLR 1077                                                                1\n",
            "Allphones Retail Pty Ltd v Hoy Mobile Pty Ltd [2009] FCAFC 85                                                                 1\n",
            "O'Keefe Nominees Pty Ltd v BP Australia Ltd, Trade Practices Commission (Intervener) [1995] FCA 1079 ; (1991) 128 ALR 718     1\n",
            "Pasen v Buy-Rite Discounts Pty Ltd (1992) V ConvR |P54-431                                                                    1\n",
            "Stanislawa Bahonko v Royal Melbourne Institute of Technology [2006] FCA 1492                                                  1\n",
            "Name: case_title, Length: 13762, dtype: int64\n"
          ]
        }
      ]
    },
    {
      "cell_type": "code",
      "source": [
        "#  Data Cleaning and Preprocessing (text-based EDA)\n",
        "# Remove any non-alphanumeric characters and extra whitespaces\n",
        "import re\n",
        "\n",
        "def clean_text(text):\n",
        "    if isinstance(text, str):\n",
        "        # If the input is a string, perform cleaning\n",
        "        text = re.sub(r'[^a-zA-Z0-9\\s]', '', text)\n",
        "        text = re.sub(' +', ' ', text)\n",
        "    return text\n",
        "\n",
        "# Apply the modified clean_text function to the columns\n",
        "train_df['case_text'] = train_df['case_text'].apply(clean_text)\n",
        "train_df['case_title'] = train_df['case_title'].apply(clean_text)\n"
      ],
      "metadata": {
        "id": "fd9VP0iXJDFS"
      },
      "execution_count": 84,
      "outputs": []
    },
    {
      "cell_type": "code",
      "source": [
        "# Check for missing data\n",
        "missing_data = train_df.isnull().sum()\n",
        "print(\"Missing Data:\")\n",
        "print(missing_data)\n",
        "\n",
        "# Handle missing data if necessary\n",
        "\n",
        "# Explore other aspects of the data (e.g., word frequency, text sentiment, etc.) as needed for your task.\n",
        "\n",
        "# Balancing Check (if relevant)\n",
        "# Check if there is an imbalance in the target variable (e.g., if you have categories)\n",
        "category_counts = train_df['case_title_len'].value_counts()\n",
        "print(\"Train Dataset - Category Counts:\")\n",
        "print(category_counts)"
      ],
      "metadata": {
        "colab": {
          "base_uri": "https://localhost:8080/"
        },
        "id": "7zSuq4JcKXG5",
        "outputId": "caf0056e-302e-4a31-8600-5b9e366f727e"
      },
      "execution_count": 85,
      "outputs": [
        {
          "output_type": "stream",
          "name": "stdout",
          "text": [
            "Missing Data:\n",
            "case_id             0\n",
            "case_outcome        0\n",
            "case_title          0\n",
            "case_text         134\n",
            "case_title_len      0\n",
            "dtype: int64\n",
            "Train Dataset - Category Counts:\n",
            "11    2175\n",
            "13    2068\n",
            "12    1579\n",
            "14    1535\n",
            "15    1438\n",
            "10    1405\n",
            "16    1235\n",
            "9     1067\n",
            "18     982\n",
            "17     884\n",
            "7      778\n",
            "8      753\n",
            "6      474\n",
            "19     420\n",
            "20     287\n",
            "21     142\n",
            "22      95\n",
            "23      49\n",
            "24      36\n",
            "25      20\n",
            "5       17\n",
            "26      15\n",
            "27      12\n",
            "29       6\n",
            "28       5\n",
            "31       3\n",
            "32       2\n",
            "33       2\n",
            "4        1\n",
            "36       1\n",
            "30       1\n",
            "34       1\n",
            "35       1\n",
            "Name: case_title_len, dtype: int64\n"
          ]
        }
      ]
    },
    {
      "cell_type": "code",
      "source": [
        "import pandas as pd\n",
        "from transformers import BertTokenizer, BertForSequenceClassification\n",
        "from datasets import load_metric\n",
        "from rouge_score import rouge_scorer"
      ],
      "metadata": {
        "id": "mUHSc4YQKsTq"
      },
      "execution_count": 88,
      "outputs": []
    },
    {
      "cell_type": "code",
      "source": [
        "model_name = \"facebook/bart-large-cnn\"\n",
        "\n",
        "# Load the BART tokenizer and model\n",
        "tokenizer = BartTokenizer.from_pretrained(model_name)\n",
        "model = BartForConditionalGeneration.from_pretrained(model_name)"
      ],
      "metadata": {
        "id": "V_EKe55WK93z"
      },
      "execution_count": 89,
      "outputs": []
    },
    {
      "cell_type": "code",
      "source": [
        "# Function to generate summaries\n",
        "def generate_summary(article_text):\n",
        "    inputs = tokenizer.encode(\"summarize: \" + article_text, return_tensors=\"pt\", max_length=1024, truncation=True)\n",
        "    summary_ids = model.generate(inputs, max_length=100, min_length=30, length_penalty=2.0, num_beams=4, early_stopping=True)\n",
        "    summary = tokenizer.decode(summary_ids[0], skip_special_tokens=True)\n",
        "    return summary\n",
        "\n",
        "# Function to calculate ROUGE scores\n",
        "def calculate_rouge_scores(original_summary, generated_summary):\n",
        "    rouge = load_metric(\"rouge\")\n",
        "    scores = rouge.compute(predictions=[generated_summary], references=[original_summary])\n",
        "    return scores"
      ],
      "metadata": {
        "id": "EHvq6ZNSLEpQ"
      },
      "execution_count": 90,
      "outputs": []
    },
    {
      "cell_type": "code",
      "source": [
        "# Summarize and evaluate a single article from the test dataset\n",
        "case_data = test_df.iloc[0]['case_text']\n",
        "original_summary = test_df.iloc[0]['case_title']\n",
        "generated_summary = generate_summary(case_data)\n",
        "rouge_scores = calculate_rouge_scores(original_summary, generated_summary)\n",
        "\n",
        "print(\"Original Summary:\")\n",
        "print(original_summary)\n",
        "print(\"\\nGenerated Summary:\")\n",
        "print(generated_summary)"
      ],
      "metadata": {
        "colab": {
          "base_uri": "https://localhost:8080/"
        },
        "id": "wq0P-MeALP2H",
        "outputId": "1bb9cdb6-d280-479b-a64a-487530158680"
      },
      "execution_count": 91,
      "outputs": [
        {
          "output_type": "stream",
          "name": "stdout",
          "text": [
            "Original Summary:\n",
            "Singh v Minister for Immigration and Ethnic Affairs [1994] FCA 1011\n",
            "\n",
            "Generated Summary:\n",
            "The Tribunal found that it was required to be satisfied \"to a high degree\" that the information upon which the visa cancellation was based was correct. The Tribunal referred to the decisions of Quan v Minister for Immigration and Multicultural &amp; Indigenous Affairs [2004] FCA 764.\n"
          ]
        }
      ]
    },
    {
      "cell_type": "code",
      "source": [
        "# Calculate ROUGE scores\n",
        "rouge_scorer = rouge_scorer.RougeScorer(['rouge1', 'rouge2', 'rougeL', 'rougeLsum'])\n",
        "rouge_scores = rouge_scorer.score(generated_summary, original_summary)\n",
        "\n",
        "# Print ROUGE scores line by line\n",
        "for metric, scores in rouge_scores.items():\n",
        "    print(f\"{metric}:\")\n",
        "    print(f\"Precision: {scores.precision}\")\n",
        "    print(f\"Recall: {scores.recall}\")\n",
        "    print(f\"F1 Score: {scores.fmeasure}\")\n",
        "    print()"
      ],
      "metadata": {
        "colab": {
          "base_uri": "https://localhost:8080/"
        },
        "id": "JI09lzvQLlFr",
        "outputId": "39b538d3-3193-4d38-95c9-0f7eb28830cb"
      },
      "execution_count": 92,
      "outputs": [
        {
          "output_type": "stream",
          "name": "stdout",
          "text": [
            "rouge1:\n",
            "Precision: 0.6363636363636364\n",
            "Recall: 0.15217391304347827\n",
            "F1 Score: 0.2456140350877193\n",
            "\n",
            "rouge2:\n",
            "Precision: 0.4\n",
            "Recall: 0.08888888888888889\n",
            "F1 Score: 0.14545454545454545\n",
            "\n",
            "rougeL:\n",
            "Precision: 0.6363636363636364\n",
            "Recall: 0.15217391304347827\n",
            "F1 Score: 0.2456140350877193\n",
            "\n",
            "rougeLsum:\n",
            "Precision: 0.6363636363636364\n",
            "Recall: 0.15217391304347827\n",
            "F1 Score: 0.2456140350877193\n",
            "\n"
          ]
        }
      ]
    },
    {
      "cell_type": "code",
      "source": [
        "# Function to calculate word overlap accuracy\n",
        "def calculate_accuracy(original_summary, generated_summary):\n",
        "    # Split summaries into words\n",
        "    original_words = set(original_summary.split())\n",
        "    generated_words = set(generated_summary.split())\n",
        "\n",
        "    # Calculate the intersection of words (common words)\n",
        "    common_words = original_words.intersection(generated_words)\n",
        "\n",
        "    # Calculate accuracy as the ratio of common words to total words in the original summary\n",
        "    accuracy = len(common_words) / len(original_words) if len(original_words) > 0 else 0.0\n",
        "    return accuracy\n",
        "\n",
        "# Calculate and print accuracy\n",
        "accuracy = calculate_accuracy(original_summary, generated_summary)\n",
        "print(f\"Word Overlap Accuracy: {accuracy:.2%}\")"
      ],
      "metadata": {
        "colab": {
          "base_uri": "https://localhost:8080/"
        },
        "id": "1FntGO5rLsub",
        "outputId": "6c2b9406-4e71-424e-af12-a73b3fc4d06d"
      },
      "execution_count": 93,
      "outputs": [
        {
          "output_type": "stream",
          "name": "stdout",
          "text": [
            "Word Overlap Accuracy: 63.64%\n"
          ]
        }
      ]
    },
    {
      "cell_type": "code",
      "source": [
        "# Calculate and print the average ROUGE F1 score\n",
        "average_f1_score = sum(scores.fmeasure for scores in rouge_scores.values()) / len(rouge_scores)\n",
        "print(f\"Average ROUGE F1 Score: {average_f1_score:.4f}\")"
      ],
      "metadata": {
        "colab": {
          "base_uri": "https://localhost:8080/"
        },
        "id": "dhjilxMqLtKC",
        "outputId": "f1f47ee5-f2b3-4a59-9324-71fa548423d3"
      },
      "execution_count": 94,
      "outputs": [
        {
          "output_type": "stream",
          "name": "stdout",
          "text": [
            "Average ROUGE F1 Score: 0.2206\n"
          ]
        }
      ]
    },
    {
      "cell_type": "code",
      "source": [
        "from transformers import T5Tokenizer, T5ForConditionalGeneration\n",
        "# Function to generate summaries using T5\n",
        "def generate_summary(article_text):\n",
        "    input_text = \"summarize: \" + article_text\n",
        "    input_ids = tokenizer(input_text, return_tensors=\"pt\").input_ids\n",
        "    summary_ids = model.generate(input_ids, max_length=100, num_beams=4, length_penalty=2.0, early_stopping=True)\n",
        "    summary = tokenizer.decode(summary_ids[0], skip_special_tokens=True)\n",
        "    return summary\n",
        "\n",
        "# Function to calculate ROUGE scores\n",
        "def calculate_rouge_scores(original_summary, generated_summary):\n",
        "    rouge = load_metric(\"rouge\")\n",
        "    scores = rouge.compute(predictions=[generated_summary], references=[original_summary])\n",
        "    return scores\n",
        "\n",
        "# Function to calculate word overlap accuracy\n",
        "def calculate_accuracy(original_summary, generated_summary):\n",
        "    original_words = set(original_summary.split())\n",
        "    generated_words = set(generated_summary.split())\n",
        "    common_words = original_words.intersection(generated_words)\n",
        "    accuracy = len(common_words) / len(original_words) if len(original_words) > 0 else 0.0\n",
        "    return accuracy\n",
        "\n",
        "# Evaluate the model on a sample article\n",
        "sample_index = 0  # Change this to evaluate other articles\n",
        "case_data = test_df.iloc[sample_index]['case_text']\n",
        "original_summary = test_df.iloc[sample_index]['case_title']\n",
        "generated_summary = generate_summary(case_data)\n",
        "\n",
        "# Calculate ROUGE scores\n",
        "rouge_scores = calculate_rouge_scores(original_summary, generated_summary)\n",
        "\n",
        "# Calculate word overlap accuracy\n",
        "accuracy = calculate_accuracy(original_summary, generated_summary)\n",
        "\n",
        "# Print the results\n",
        "print(\"Original Summary:\")\n",
        "print(original_summary)\n",
        "print(\"\\nGenerated Summary:\")\n",
        "print(generated_summary)"
      ],
      "metadata": {
        "colab": {
          "base_uri": "https://localhost:8080/"
        },
        "id": "o7sMBToiLv5T",
        "outputId": "431d3078-ca4a-4afd-d766-68057a7c2a3e"
      },
      "execution_count": 95,
      "outputs": [
        {
          "output_type": "stream",
          "name": "stdout",
          "text": [
            "Original Summary:\n",
            "Singh v Minister for Immigration and Ethnic Affairs [1994] FCA 1011\n",
            "\n",
            "Generated Summary:\n",
            "The Tribunal found that it was required to be satisfied \"to a high degree\" that the information upon which the visa cancellation was based was correct. The Tribunal referred to the decisions of Quan v Minister for Immigration and Multicultural &amp; Indigenous Affairs [2004] FCA 764 at [33] - [34] per Jacobson J.\n"
          ]
        }
      ]
    },
    {
      "cell_type": "code",
      "source": [
        "# Calculate ROUGE scores\n",
        "from rouge_score import rouge_scorer\n",
        "\n",
        "# Define ROUGE scorer\n",
        "scorer = rouge_scorer.RougeScorer(['rouge1', 'rouge2', 'rougeL', 'rougeLsum'])\n",
        "\n",
        "# Calculate ROUGE scores\n",
        "rouge_scores = scorer.score(generated_summary, original_summary)\n",
        "\n",
        "# Print ROUGE scores\n",
        "for metric, scores in rouge_scores.items():\n",
        "    print(f\"{metric}:\")\n",
        "    print(f\"Precision: {scores.precision:.4f}\")\n",
        "    print(f\"Recall: {scores.recall:.4f}\")\n",
        "    print(f\"F1 Score: {scores.fmeasure:.4f}\")\n",
        "    print()"
      ],
      "metadata": {
        "colab": {
          "base_uri": "https://localhost:8080/"
        },
        "id": "GpAxdq8aMH3e",
        "outputId": "0cc4d9bf-7f1a-40d9-c350-96103b205882"
      },
      "execution_count": 96,
      "outputs": [
        {
          "output_type": "stream",
          "name": "stdout",
          "text": [
            "rouge1:\n",
            "Precision: 0.6364\n",
            "Recall: 0.1346\n",
            "F1 Score: 0.2222\n",
            "\n",
            "rouge2:\n",
            "Precision: 0.4000\n",
            "Recall: 0.0784\n",
            "F1 Score: 0.1311\n",
            "\n",
            "rougeL:\n",
            "Precision: 0.6364\n",
            "Recall: 0.1346\n",
            "F1 Score: 0.2222\n",
            "\n",
            "rougeLsum:\n",
            "Precision: 0.6364\n",
            "Recall: 0.1346\n",
            "F1 Score: 0.2222\n",
            "\n"
          ]
        }
      ]
    },
    {
      "cell_type": "code",
      "source": [
        "print(f\"Word Overlap Accuracy: {accuracy:.2%}\")"
      ],
      "metadata": {
        "colab": {
          "base_uri": "https://localhost:8080/"
        },
        "id": "gpxL5dH3MO-m",
        "outputId": "6394264a-3ef3-4b5b-b948-f027f9f4c95a"
      },
      "execution_count": 97,
      "outputs": [
        {
          "output_type": "stream",
          "name": "stdout",
          "text": [
            "Word Overlap Accuracy: 63.64%\n"
          ]
        }
      ]
    },
    {
      "cell_type": "code",
      "source": [
        "average_f1_score = sum(scores.fmeasure for scores in rouge_scores.values()) / len(rouge_scores)\n",
        "print(f\"Average ROUGE F1 Score: {average_f1_score:.4f}\")"
      ],
      "metadata": {
        "colab": {
          "base_uri": "https://localhost:8080/"
        },
        "id": "xSO_RndvW_sg",
        "outputId": "893172c4-ddca-43a8-a43e-6dac7cf3c5ad"
      },
      "execution_count": 98,
      "outputs": [
        {
          "output_type": "stream",
          "name": "stdout",
          "text": [
            "Average ROUGE F1 Score: 0.1995\n"
          ]
        }
      ]
    },
    {
      "cell_type": "code",
      "source": [
        "from transformers import DistilBertTokenizer, DistilBertForSequenceClassification\n",
        "from datasets import load_metric\n",
        "from rouge_score import rouge_scorer\n",
        "model_name = \"distilbert-base-uncased\"\n",
        "tokenizer = DistilBertTokenizer.from_pretrained(model_name)\n",
        "model = DistilBertForSequenceClassification.from_pretrained(model_name)"
      ],
      "metadata": {
        "colab": {
          "base_uri": "https://localhost:8080/"
        },
        "id": "zjIfos1yMoSD",
        "outputId": "a75dfec2-a5d3-4cda-c9b3-4273c3ca87be"
      },
      "execution_count": 99,
      "outputs": [
        {
          "output_type": "stream",
          "name": "stderr",
          "text": [
            "Some weights of DistilBertForSequenceClassification were not initialized from the model checkpoint at distilbert-base-uncased and are newly initialized: ['classifier.weight', 'classifier.bias', 'pre_classifier.weight', 'pre_classifier.bias']\n",
            "You should probably TRAIN this model on a down-stream task to be able to use it for predictions and inference.\n"
          ]
        }
      ]
    },
    {
      "cell_type": "code",
      "source": [
        "# Function to generate summaries using DistilBERT\n",
        "def generate_summary(article_text, max_length=100):\n",
        "    # Tokenize and generate the summary\n",
        "    inputs = tokenizer.encode(\"summarize: \" + article_text, return_tensors=\"pt\", max_length=512, truncation=True)\n",
        "    summary_ids = model.generate(inputs, max_length=max_length, min_length=30, length_penalty=2.0, num_beams=4, early_stopping=True)\n",
        "    summary = tokenizer.decode(summary_ids[0], skip_special_tokens=True)\n",
        "    return summary\n",
        "\n",
        "# Function to calculate word overlap accuracy\n",
        "def calculate_accuracy(original_summary, generated_summary):\n",
        "    original_words = set(original_summary.split())\n",
        "    generated_words = set(generated_summary.split())\n",
        "    common_words = original_words.intersection(generated_words)\n",
        "    accuracy = len(common_words) / len(original_words) if len(original_words) > 0 else 0.0\n",
        "    return accuracy\n",
        "\n",
        "# Function to calculate ROUGE scores\n",
        "def calculate_rouge_scores(original_summary, generated_summary):\n",
        "    # Import the necessary library\n",
        "    from rouge_score import rouge_scorer\n",
        "\n",
        "    # Initialize the ROUGE scorer\n",
        "    scorer = rouge_scorer.RougeScorer(['rouge1', 'rouge2', 'rougeL', 'rougeLsum'])\n",
        "\n",
        "    # Calculate ROUGE scores\n",
        "    rouge_scores = scorer.score(generated_summary, original_summary)\n",
        "    return rouge_scores"
      ],
      "metadata": {
        "id": "ADNRTeUUMqVG"
      },
      "execution_count": 100,
      "outputs": []
    },
    {
      "cell_type": "code",
      "source": [
        "# Calculate ROUGE scores\n",
        "rouge_scores = calculate_rouge_scores(original_summary, generated_summary)\n",
        "\n",
        "# Print the ROUGE scores\n",
        "for metric, score in rouge_scores.items():\n",
        "    print(f\"{metric}:\")\n",
        "    print(f\"Precision: {score.precision:.4f}\")\n",
        "    print(f\"Recall: {score.recall:.4f}\")\n",
        "    print(f\"F1 Score: {score.fmeasure:.4f}\")\n",
        "    print()"
      ],
      "metadata": {
        "colab": {
          "base_uri": "https://localhost:8080/"
        },
        "id": "gZ6QejuEMtQk",
        "outputId": "503440fb-1c20-4357-aa04-f17dd4d8054d"
      },
      "execution_count": 101,
      "outputs": [
        {
          "output_type": "stream",
          "name": "stdout",
          "text": [
            "rouge1:\n",
            "Precision: 0.6364\n",
            "Recall: 0.1346\n",
            "F1 Score: 0.2222\n",
            "\n",
            "rouge2:\n",
            "Precision: 0.4000\n",
            "Recall: 0.0784\n",
            "F1 Score: 0.1311\n",
            "\n",
            "rougeL:\n",
            "Precision: 0.6364\n",
            "Recall: 0.1346\n",
            "F1 Score: 0.2222\n",
            "\n",
            "rougeLsum:\n",
            "Precision: 0.6364\n",
            "Recall: 0.1346\n",
            "F1 Score: 0.2222\n",
            "\n"
          ]
        }
      ]
    },
    {
      "cell_type": "code",
      "source": [
        "accuracy = calculate_accuracy(original_summary, generated_summary)\n",
        "print(f\"Word Overlap Accuracy: {accuracy:.2%}\")"
      ],
      "metadata": {
        "colab": {
          "base_uri": "https://localhost:8080/"
        },
        "id": "0rtqE4kxM0bU",
        "outputId": "64304e0e-2e62-4223-d231-1f17d6164697"
      },
      "execution_count": 102,
      "outputs": [
        {
          "output_type": "stream",
          "name": "stdout",
          "text": [
            "Word Overlap Accuracy: 63.64%\n"
          ]
        }
      ]
    },
    {
      "cell_type": "code",
      "source": [
        "# Calculate and print the average ROUGE F1 score\n",
        "average_f1_score = sum(scores.fmeasure for scores in rouge_scores.values()) / len(rouge_scores)\n",
        "print(f\"Average ROUGE F1 Score: {average_f1_score:.4f}\")"
      ],
      "metadata": {
        "colab": {
          "base_uri": "https://localhost:8080/"
        },
        "id": "uSku6Uy6MwHJ",
        "outputId": "1a499274-0601-4cd6-c338-f7d795a2dd00"
      },
      "execution_count": 103,
      "outputs": [
        {
          "output_type": "stream",
          "name": "stdout",
          "text": [
            "Average ROUGE F1 Score: 0.1995\n"
          ]
        }
      ]
    },
    {
      "cell_type": "code",
      "source": [],
      "metadata": {
        "id": "JPvzzMmfMzIG"
      },
      "execution_count": 49,
      "outputs": []
    },
    {
      "cell_type": "code",
      "source": [],
      "metadata": {
        "id": "psAbAKK5Olbv"
      },
      "execution_count": null,
      "outputs": []
    },
    {
      "cell_type": "code",
      "source": [],
      "metadata": {
        "id": "8w4SH3F3Olwr"
      },
      "execution_count": null,
      "outputs": []
    },
    {
      "cell_type": "code",
      "source": [],
      "metadata": {
        "id": "iSd9e1_bOmNy"
      },
      "execution_count": null,
      "outputs": []
    }
  ]
}